{
 "cells": [
  {
   "cell_type": "markdown",
   "id": "ea678378",
   "metadata": {},
   "source": [
    "<b>PYTHON FOR DATA PROFESSIONAL BEGINNER - PART 1</b><br><br>\n",
    "Nama: Andrean Yonathan | Email: and21yonathan@gmail.com |Telp/WA: +6289606707966"
   ]
  },
  {
   "cell_type": "markdown",
   "id": "cd019b66",
   "metadata": {},
   "source": [
    "<b>1. Mari Mengenal Python</b>"
   ]
  },
  {
   "cell_type": "markdown",
   "id": "053b1d7f",
   "metadata": {},
   "source": [
    "<i>1.1 Program pertama: \"Hello World\"</i>"
   ]
  },
  {
   "cell_type": "code",
   "execution_count": 24,
   "id": "7a614222",
   "metadata": {},
   "outputs": [
    {
     "name": "stdout",
     "output_type": "stream",
     "text": [
      "Hello World!\n"
     ]
    }
   ],
   "source": [
    "print(\"Hello World!\")"
   ]
  },
  {
   "cell_type": "markdown",
   "id": "6000e1ee",
   "metadata": {},
   "source": [
    "<i>1.2 Program pertamaku</i>"
   ]
  },
  {
   "cell_type": "code",
   "execution_count": 25,
   "id": "02552a89",
   "metadata": {},
   "outputs": [
    {
     "name": "stdout",
     "output_type": "stream",
     "text": [
      "Halo Dunia\n",
      "Riset Bahasa Python\n"
     ]
    }
   ],
   "source": [
    "print(\"Halo Dunia\")\n",
    "print(\"Riset Bahasa Python\")"
   ]
  },
  {
   "cell_type": "markdown",
   "id": "e28285c0",
   "metadata": {},
   "source": [
    "<i>1.3 Struktur Program Python - Part 1</i>"
   ]
  },
  {
   "cell_type": "code",
   "execution_count": 26,
   "id": "ceb6f110",
   "metadata": {},
   "outputs": [
    {
     "name": "stdout",
     "output_type": "stream",
     "text": [
      "Belajar Python menyenangkan\n",
      "Halo Dunia\n",
      "Hello World!\n",
      "15\n"
     ]
    }
   ],
   "source": [
    "# Statement\n",
    "print(\"Belajar Python menyenangkan\") \n",
    "print(\"Halo Dunia\")\n",
    "print(\"Hello World!\")\n",
    "# Variables & Literals\n",
    "bilangan1 = 5\n",
    "bilangan2 = 10\n",
    "kalimat1 = \"Belajar Bahasa Python\"\n",
    "# Operators\n",
    "print(bilangan1 + bilangan2)"
   ]
  },
  {
   "cell_type": "markdown",
   "id": "f48ef409",
   "metadata": {},
   "source": [
    "<i>Tugas Praktek - 1a</i><br><br>\n",
    "<i>Deklarasi variable bilangan1 dengan 20, dan bilangan2 dengan 10 dan tampilkan hasil pengurangan bilangan1 & bilangan 2.</i>"
   ]
  },
  {
   "cell_type": "code",
   "execution_count": 27,
   "id": "d314e9a9",
   "metadata": {},
   "outputs": [
    {
     "name": "stdout",
     "output_type": "stream",
     "text": [
      "10\n"
     ]
    }
   ],
   "source": [
    "bilangan1 = 20\n",
    "bilangan2 = 10\n",
    "print(bilangan1 - bilangan2)"
   ]
  },
  {
   "cell_type": "markdown",
   "id": "45853c72",
   "metadata": {},
   "source": [
    "<i>Tugas Praktek - 1b</i><br><br>\n",
    "<i>1. Aku diminta menghitung harga_setelah_potongan dan harga_final. harga_final diperoleh dengan mengalikan harga_setelah_potongan dengan angka 1.1 karena PPN sebesar 10% (100% + 10% = 110% atau 1.1)<br>\n",
    "   2. Aku menggunakan variabel harga_asli dengan nilai 20000 dan variabel potongan dengan nilai 2000 </i>"
   ]
  },
  {
   "cell_type": "code",
   "execution_count": 28,
   "id": "99b5a03f",
   "metadata": {},
   "outputs": [
    {
     "name": "stdout",
     "output_type": "stream",
     "text": [
      "19800.0\n"
     ]
    }
   ],
   "source": [
    "harga_asli = 20000\n",
    "potongan = 2000\n",
    "harga_setelah_potongan = harga_asli - potongan\n",
    "harga_final = harga_setelah_potongan*1.1\n",
    "print(harga_final)"
   ]
  },
  {
   "cell_type": "markdown",
   "id": "b32456eb",
   "metadata": {},
   "source": [
    "<b>2. Python Variables and Data Types</b>"
   ]
  },
  {
   "cell_type": "markdown",
   "id": "2d081def",
   "metadata": {},
   "source": [
    "<i>2.1 Sequence Type - Part 1</i><br><br>\n",
    "<i>Tugas:<br>\n",
    "Aku diberikan tugas untuk menerapkan variasi tipe data list dengan mengikuti petunjuk yang diberikan Senja. Berikut petunjuknya:<br>\n",
    "\n",
    "Petunjuk 1: Input data 1, ‘dua’, 3, 4.0, 5 ke dalam contoh_list<br>\n",
    "Petunjuk 2: Ambil Elemen pertama dari contoh_list untuk menampilkan output 1 menggunakan print statement<br>\n",
    "Petunjuk 3: Ambil Elemen ke empat dari contoh_list untuk menampilkan output 4.0 menggunakan print statement<br>\n",
    "Petunjuk 4: Input data 1, ‘dua’, 3, 4.0, 5 ke dalam contoh_list<br>\n",
    "Petunjuk 5: Rubah Elemen keempat dalam contoh_list menjadi 'empat'<br>\n",
    "Petunjuk 6: Tampilkan output elemen keempat yang telah dirubah tersebut menggunakan print statement<br></i>"
   ]
  },
  {
   "cell_type": "code",
   "execution_count": 29,
   "id": "f0baec32",
   "metadata": {},
   "outputs": [
    {
     "name": "stdout",
     "output_type": "stream",
     "text": [
      "1\n",
      "4.0\n",
      "empat\n"
     ]
    }
   ],
   "source": [
    "contoh_list = [1, 'dua', 3, 4.0, 5]\n",
    "print(contoh_list[0])\n",
    "print(contoh_list[3])\n",
    "contoh_list = [1, 'dua', 3, 4.0, 5]\n",
    "contoh_list[3] = 'empat'\n",
    "print(contoh_list[3])"
   ]
  },
  {
   "cell_type": "markdown",
   "id": "96a5f372",
   "metadata": {},
   "source": [
    "<i>2.2 Sequence Type - Part 2</i><br><br>\n",
    "<i>Tugas:<br>\n",
    "Sekarang aku diberikan tugas untuk menerapkan variasi tipe data tuple dengan mengikuti petunjuk yang diberikan Senja:<br>\n",
    "\n",
    "Petunjuk 1: Input data Januari sampai dengan April ke dalam contoh_tuple<br>\n",
    "Petunjuk 2: Ambil Elemen pertama dari contoh_tuple untuk menampilkan output 1 menggunakan print statement<br>\n",
    "Petunjuk 3: Input kembali data Januari sampai dengan April ke dalam contoh_tuple<br>\n",
    "Petunjuk 4: Rubah Elemen pertama dalam contoh_tuple menjadi “Desember”<br></i>"
   ]
  },
  {
   "cell_type": "code",
   "execution_count": 30,
   "id": "4aadf3bd",
   "metadata": {},
   "outputs": [
    {
     "name": "stdout",
     "output_type": "stream",
     "text": [
      "Januari\n"
     ]
    },
    {
     "ename": "TypeError",
     "evalue": "'tuple' object does not support item assignment",
     "output_type": "error",
     "traceback": [
      "\u001b[1;31m---------------------------------------------------------------------------\u001b[0m",
      "\u001b[1;31mTypeError\u001b[0m                                 Traceback (most recent call last)",
      "\u001b[1;32m~\\AppData\\Local\\Temp/ipykernel_8216/1333596474.py\u001b[0m in \u001b[0;36m<module>\u001b[1;34m\u001b[0m\n\u001b[0;32m      2\u001b[0m \u001b[0mprint\u001b[0m\u001b[1;33m(\u001b[0m\u001b[0mcontoh_tuple\u001b[0m\u001b[1;33m[\u001b[0m\u001b[1;36m0\u001b[0m\u001b[1;33m]\u001b[0m\u001b[1;33m)\u001b[0m\u001b[1;33m\u001b[0m\u001b[1;33m\u001b[0m\u001b[0m\n\u001b[0;32m      3\u001b[0m \u001b[0mcontoh_tuple\u001b[0m \u001b[1;33m=\u001b[0m \u001b[1;33m(\u001b[0m\u001b[1;34m'Januari'\u001b[0m\u001b[1;33m,\u001b[0m \u001b[1;34m'Februari'\u001b[0m\u001b[1;33m,\u001b[0m \u001b[1;34m'Maret'\u001b[0m\u001b[1;33m,\u001b[0m \u001b[1;34m'April'\u001b[0m\u001b[1;33m)\u001b[0m\u001b[1;33m\u001b[0m\u001b[1;33m\u001b[0m\u001b[0m\n\u001b[1;32m----> 4\u001b[1;33m \u001b[0mcontoh_tuple\u001b[0m\u001b[1;33m[\u001b[0m\u001b[1;36m0\u001b[0m\u001b[1;33m]\u001b[0m \u001b[1;33m=\u001b[0m \u001b[1;34m'Desember'\u001b[0m\u001b[1;33m\u001b[0m\u001b[1;33m\u001b[0m\u001b[0m\n\u001b[0m",
      "\u001b[1;31mTypeError\u001b[0m: 'tuple' object does not support item assignment"
     ]
    }
   ],
   "source": [
    "contoh_tuple = ('Januari', 'Februari', 'Maret', 'April')\n",
    "print(contoh_tuple[0])\n",
    "contoh_tuple = ('Januari', 'Februari', 'Maret', 'April')\n",
    "contoh_tuple[0] = 'Desember'"
   ]
  },
  {
   "cell_type": "markdown",
   "id": "d5012831",
   "metadata": {},
   "source": [
    "<i>2.3 Set Type</i><br><br>\n",
    "<i>Tugas:<br>\n",
    "Sekarang aku diberikan tugas untuk menerapkan variasi set dan frozenset oleh Senja:<br>\n",
    "\n",
    "Tugas 1:Input data Dewi, Budi, Cici, Linda, Cici kedalam tipe data list dan tampilkan hasilnya<br>\n",
    "Tugas 2: Input data Dewi, Budi, Cici, Linda, Cici kedalam tipe data set dan tampilkan hasilnya<br>\n",
    "Tugas 3: Input data Dewi, Budi, Cici, Linda, Cici kedalam tipe data frozenset dan tampilkan hasilnya<br></i>"
   ]
  },
  {
   "cell_type": "code",
   "execution_count": null,
   "id": "78a0281e",
   "metadata": {},
   "outputs": [],
   "source": [
    "contoh_list = ['Dewi', 'Budi', 'Cici', 'Linda', 'Cici']\n",
    "print(contoh_list)\n",
    "contoh_set = {'Dewi', 'Budi', 'Cici', 'Linda', 'Cici'}\n",
    "print(contoh_set)\n",
    "contoh_frozen_set = ({'Dewi', 'Budi', 'Cici', 'Linda', 'Cici'})\n",
    "print(contoh_frozen_set)"
   ]
  },
  {
   "cell_type": "markdown",
   "id": "f93802ba",
   "metadata": {},
   "source": [
    "<i>2.4 Mapping Type</i><br><br>\n",
    "<i>Tugas:<br>\n",
    "Menggunakan tipe data mapping, aku diminta Senja untuk menampilkan nama & pekerjaan John Doe, seorang Programmer.<br></i>"
   ]
  },
  {
   "cell_type": "code",
   "execution_count": null,
   "id": "ce9fe8bb",
   "metadata": {},
   "outputs": [],
   "source": [
    "person = {'nama': 'John Doe', 'pekerjaan': 'Programmer'}\n",
    "print(person['nama'])\n",
    "print(person['pekerjaan'])"
   ]
  },
  {
   "attachments": {
    "image.png": {
     "image/png": "[encoded data removed]"
    }
   },
   "cell_type": "markdown",
   "id": "75819f01",
   "metadata": {},
   "source": [
    "<i>Tugas Praktek - 2a</i><br><br>\n",
    "<i>Mendeklarasikan variabel sepatu, baju, dan celana untuk menampung informasi barang</i><br>\n",
    "![image.png](attachment:image.png)"
   ]
  },
  {
   "cell_type": "code",
   "execution_count": null,
   "id": "4d7aec18",
   "metadata": {},
   "outputs": [],
   "source": [
    "sepatu = {'nama': \"Sepatu Niko\", \"Harga\": 150000, \"diskon\": 30000 }\n",
    "baju = {\"nama\": \"Baju Unikloh\", \"Harga\": 80000, \"Diskon\": 8000}\n",
    "celana = {\"nama\": \"Celana Lepis\", \"Harga\": 200000, \"Diskon\": 60000}"
   ]
  },
  {
   "cell_type": "markdown",
   "id": "8f142251",
   "metadata": {},
   "source": [
    "<i>Tugas Praktek - 2b<br><br>\n",
    "Setelah berhasil merepresentasikan setiap barang ke dalam tipe data dictionary dengan variabel nama, harga, dan diskon, langkahku selanjutnya adalah: mendeklarasikan list dengan nama daftar_belanja yang berisi data sepatu, baju, dan celana.</i>"
   ]
  },
  {
   "cell_type": "code",
   "execution_count": null,
   "id": "190d92fd",
   "metadata": {},
   "outputs": [],
   "source": [
    "sepatu = {\"nama\": \"Sepatu Niko\", \"harga\": 150000, \"diskon\": 30000} \n",
    "baju = {\"nama\": \"Baju Unikloh\", \"harga\": 80000, \"diskon\": 8000} \n",
    "celana = {\"nama\": \"Celana Lepis\", \"harga\": 200000, \"diskon\": 60000} \n",
    "daftar_belanja = [sepatu, baju, celana]"
   ]
  },
  {
   "cell_type": "markdown",
   "id": "ecddf04b",
   "metadata": {},
   "source": [
    "<i>Tugas Praktek - 2c<br><br>\n",
    "Menghitung total harga jual dengan potongan harga dengan pajak sebesar 10% dari nilai jual.</i>"
   ]
  },
  {
   "cell_type": "code",
   "execution_count": null,
   "id": "9ed28914",
   "metadata": {},
   "outputs": [],
   "source": [
    "# Data yang dinyatakan ke dalam dictionary\n",
    "sepatu = {\"nama\": \"Sepatu Niko\", \"harga\": 150000, \"diskon\": 30000} \n",
    "baju = {\"nama\": \"Baju Unikloh\", \"harga\": 80000, \"diskon\": 8000} \n",
    "celana = {\"nama\": \"Celana Lepis\", \"harga\": 200000, \"diskon\": 60000}\n",
    "# Hitunglah harga masing-masing data setelah dikurangi diskon\n",
    "harga_sepatu = sepatu[\"harga\"] - sepatu[\"diskon\"] \n",
    "harga_baju = baju[\"harga\"] - baju[\"diskon\"]\n",
    "harga_celana = celana[\"harga\"] - celana[\"diskon\"]\n",
    "# Hitung harga total\n",
    "total_harga = harga_sepatu + harga_baju + harga_celana\n",
    "# Hitung harga kena pajak\n",
    "total_pajak = total_harga * 0.1\n",
    "# Cetak total_harga + total_pajak\n",
    "print(total_harga+total_pajak)"
   ]
  },
  {
   "cell_type": "markdown",
   "id": "1aff801c",
   "metadata": {},
   "source": [
    "<b>3. Python Operators</b>"
   ]
  },
  {
   "cell_type": "markdown",
   "id": "d428ddd6",
   "metadata": {},
   "source": [
    "<i>3.1 Nilai Prioritas Operator dalam Python – Part 1<br><br>\n",
    "Tugas:<br>\n",
    "Aku diminta Senja untuk menghitung harga yang harus dibayarkan menggunakan barang senilai 150,000, dengan diskon 30% dan pajak 10%, menggunakan cara yang aku gunakan awal, dan cara lebih singkat yang diajarkan Senja.</i>"
   ]
  },
  {
   "cell_type": "code",
   "execution_count": null,
   "id": "0a3493d3",
   "metadata": {},
   "outputs": [],
   "source": [
    "# Kode awal\n",
    "total_harga = 150000\n",
    "potongan_harga = 0.3\n",
    "pajak = 0.1 # pajak dalam persen ~ 10%\n",
    "harga_bayar = 1 - 0.3 # baris pertama\n",
    "harga_bayar *= total_harga # baris kedua\n",
    "pajak_bayar = pajak * harga_bayar # baris ketiga\n",
    "harga_bayar += pajak_bayar # baris ke-4\n",
    "print(\"Kode awal - harga_bayar=\", harga_bayar)\n",
    "# Penyederhanaan baris kode dengan menerapkan prioritas operator\n",
    "total_harga = 150000\n",
    "potongan_harga = 0.3\n",
    "pajak = 0.1 # pajak dalam persen ~ 10%\n",
    "harga_bayar = (1 - 0.3) * total_harga #baris pertama \n",
    "harga_bayar += harga_bayar * pajak # baris kedua\n",
    "print(\"Penyederhanaan kode - harga_bayar=\", harga_bayar)"
   ]
  },
  {
   "cell_type": "markdown",
   "id": "1e03d919",
   "metadata": {},
   "source": [
    "<i>Tugas Praktek<br><br>\n",
    "Tugas:\n",
    "Dengan cara yang diajarkan Senja, aku akan membuat potongan kode diatas menjadi lebih simpel. Jangan lupa ada pajak 10%."
   ]
  },
  {
   "cell_type": "markdown",
   "id": "d9910de7",
   "metadata": {},
   "source": [
    "sepatu = { \"nama\" : \"Sepatu Niko\", \"harga\": 150000, \"diskon\": 30000 }\n",
    "baju = { \"nama\" : \"Baju Unikloh\", \"harga\": 80000, \"diskon\": 8000 }\n",
    "celana = { \"nama\" : \"Celana Lepis\", \"harga\": 200000, \"diskon\": 60000 }\n",
    "harga_sepatu = sepatu[\"harga\"] - sepatu[\"diskon\"]\n",
    "harga_baju = baju[\"harga\"] - baju[\"diskon\"]\n",
    "harga_celana = celana[\"harga\"] - celana[\"diskon\"]\n",
    "total_harga = (harga_sepatu + harga_baju + harga_celana)*1.1 \n",
    "print(total_harga)"
   ]
  },
  {
   "cell_type": "markdown",
   "id": "85c05f1f",
   "metadata": {},
   "source": [
    "<b>4. Python Conditioning and Looping</b>"
   ]
  },
  {
   "cell_type": "markdown",
   "id": "c970e771",
   "metadata": {},
   "source": [
    "<i>4.1 Python Conditioning for Decision – Part 2</i>"
   ]
  },
  {
   "cell_type": "code",
   "execution_count": 36,
   "id": "10b0c50c",
   "metadata": {},
   "outputs": [
    {
     "name": "stdout",
     "output_type": "stream",
     "text": [
      "x habis dibagi dua\n",
      "x tidak habis dibagi dua, tiga ataupun lima\n"
     ]
    }
   ],
   "source": [
    "# Statement if\n",
    "x = 4\n",
    "if x % 2 == 0: # jika sisa bagi x dengan 2 sama dengan 0\n",
    "\tprint(\"x habis dibagi dua\") # statemen aksi lebih menjorok ke dalam\n",
    "# Statement if ... elif ... else\n",
    "x = 7\n",
    "if x % 2 == 0: # jika sisa bagi x dengan 2 sama dengan 0\n",
    "\tprint(\"x habis dibagi dua\")\n",
    "elif x % 3 == 0: # jika sisa bagi x dengan 3 sama dengan 0\n",
    "\tprint(\"x habis dibagi tiga\")\n",
    "elif x % 5 == 0: # jika sisa bagi x dengan 5 sama dengan 0\n",
    "\tprint(\"x habis dibagi lima\")\n",
    "else:\n",
    "\tprint(\"x tidak habis dibagi dua, tiga ataupun lima\")"
   ]
  },
  {
   "cell_type": "markdown",
   "id": "a72c74dc",
   "metadata": {},
   "source": [
    "<i>4.2 Python Conditioning for Decision – Part 3</i>"
   ]
  },
  {
   "cell_type": "code",
   "execution_count": 35,
   "id": "8dc6c9f6",
   "metadata": {},
   "outputs": [
    {
     "name": "stdout",
     "output_type": "stream",
     "text": [
      "Selamat siang!\n"
     ]
    }
   ],
   "source": [
    "jam = 13\n",
    "if jam >= 5 and jam < 12: # selama jam di antara 5 s.d. 12\n",
    "    print(\"Selamat pagi!\")\n",
    "elif jam >= 12 and jam < 17: # selama jam di antara 12 s.d. 17\n",
    "    print(\"Selamat siang!\")\n",
    "elif jam >= 17 and jam < 19: # selama jam di antara 17 s.d. 19\n",
    "    print(\"Selamat sore!\")\n",
    "else: # selain kondisi di atas\n",
    "    print(\"Selamat malam!\")"
   ]
  },
  {
   "attachments": {
    "image.png": {
     "image/png": "[encoded data removed]"
    }
   },
   "cell_type": "markdown",
   "id": "05d5fa8e",
   "metadata": {},
   "source": [
    "<i>Tugas Praktek - 4a</i><br><br>\n",
    "<i>Tugas:<br>\n",
    "Aku diminta tolong Senja untuk menghitung tagihan pembayaran karena saat ini prosesnya masih manual.</i>\n",
    "![image.png](attachment:image.png)"
   ]
  },
  {
   "cell_type": "code",
   "execution_count": 34,
   "id": "a4a15d49",
   "metadata": {},
   "outputs": [
    {
     "name": "stdout",
     "output_type": "stream",
     "text": [
      "Tagihan kepada:\n",
      "Mr. Yoyo\n",
      "Selamat pagi, anda harus membayar tagihan sebesar:\n",
      "85000000\n"
     ]
    }
   ],
   "source": [
    "tagihan_ke = 'Mr. Yoyo'\n",
    "warehousing = { 'harga_harian': 1000000, 'total_hari':15 } \n",
    "cleansing = { 'harga_harian': 1500000, 'total_hari':10 } \n",
    "integration = { 'harga_harian':2000000, 'total_hari':15 } \n",
    "transform = { 'harga_harian':2500000, 'total_hari':10 }\n",
    "sub_warehousing = warehousing['harga_harian'] * warehousing['total_hari'] \n",
    "sub_cleansing = cleansing['harga_harian'] * cleansing['total_hari']\n",
    "sub_integration = integration['harga_harian'] * integration['total_hari'] \n",
    "sub_transform = transform['harga_harian'] * transform['total_hari'] \n",
    "total_harga = sub_warehousing + sub_cleansing + sub_integration + sub_transform\n",
    "print(\"Tagihan kepada:\") \n",
    "print(tagihan_ke)\n",
    "print(\"Selamat pagi, anda harus membayar tagihan sebesar:\") \n",
    "print(total_harga)"
   ]
  },
  {
   "cell_type": "markdown",
   "id": "e8bd9420",
   "metadata": {},
   "source": [
    "<i>Tugas Praktek - 4b</i><br><br>\n",
    "<i>Tugas:<br>\n",
    "Tolong masukkan variabel keterangan waktu tersebut di kodemu. Lalu, diatur dengan detail berikut:<br>\n",
    "\n",
    "Diatas jam 07 malam adalah salam 'selamat malam'\n",
    "Diatas jam 05 sore adalah salam 'selamat sore'\n",
    "Diatas jam 12 siang, adalah 'selamat siang'\n",
    "dan selain itu 'selamat pagi'</i>"
   ]
  },
  {
   "cell_type": "code",
   "execution_count": 33,
   "id": "010d3993",
   "metadata": {},
   "outputs": [
    {
     "name": "stdout",
     "output_type": "stream",
     "text": [
      "Tagihan kepada:\n",
      "Mr. Yoyo\n",
      "Selamat siang, anda harus membayar tagihan sebesar:\n",
      "85000000\n"
     ]
    }
   ],
   "source": [
    "jam = 17\n",
    "tagihan_ke = 'Mr. Yoyo'\n",
    "warehousing = { 'harga_harian': 1000000, 'total_hari':15 } \n",
    "cleansing = { 'harga_harian': 1500000, 'total_hari':10 } \n",
    "integration = { 'harga_harian':2000000, 'total_hari':15 } \n",
    "transform = { 'harga_harian':2500000, 'total_hari':10 }\n",
    "sub_warehousing = warehousing['harga_harian']*warehousing['total_hari'] \n",
    "sub_cleansing = cleansing['harga_harian']*cleansing['total_hari'] \n",
    "sub_integration = integration['harga_harian']*integration['total_hari'] \n",
    "sub_transform = transform['harga_harian']*transform['total_hari']\n",
    "total_harga = sub_warehousing+sub_cleansing+sub_integration+sub_transform\n",
    "print(\"Tagihan kepada:\")\n",
    "print(tagihan_ke)\n",
    "if jam > 19:\n",
    "    print(\"Selamat malam, anda harus membayar tagihan sebesar:\")\n",
    "elif jam > 17:\n",
    "    print(\"Selamat sore, anda harus membayar tagihan sebesar:\") \n",
    "elif jam > 12:\n",
    "    print(\"Selamat siang, anda harus membayar tagihan sebesar:\")\n",
    "else:\n",
    "    print(\"Selamat pagi, anda harus membayar tagihan sebesar:\") \n",
    "print(total_harga)"
   ]
  },
  {
   "cell_type": "markdown",
   "id": "a849bbe8",
   "metadata": {},
   "source": [
    "<i>4.3 Python While Loops - Part 1</i>"
   ]
  },
  {
   "cell_type": "code",
   "execution_count": 32,
   "id": "b8ba9c39",
   "metadata": {},
   "outputs": [
    {
     "name": "stdout",
     "output_type": "stream",
     "text": [
      "750000\n",
      "750000\n"
     ]
    }
   ],
   "source": [
    "# Tagihan\n",
    "tagihan = [50000, 75000, 125000, 300000, 200000]\n",
    "# Tanpa menggunakan while loop\n",
    "total_tagihan = tagihan[0] + tagihan[1] + tagihan[2] + tagihan[3] + tagihan[4]\n",
    "print(total_tagihan)\n",
    "# Dengan menggunakan while loop\n",
    "i = 0 # sebuah variabel untuk mengakses setiap elemen tagihan satu per satu\n",
    "jumlah_tagihan = len(tagihan) # panjang (jumlah elemen dalam) list tagihan\n",
    "total_tagihan = 0 # mula-mula, set total_tagihan ke 0\n",
    "while i < jumlah_tagihan: # selama nilai i kurang dari jumlah_tagihan\n",
    "    total_tagihan += tagihan[i] # tambahkan tagihan[i] ke total_tagihan\n",
    "    i += 1 # tambahkan nilai i dengan 1 untuk memproses tagihan selanjutnya.\n",
    "print(total_tagihan)"
   ]
  },
  {
   "cell_type": "markdown",
   "id": "55526707",
   "metadata": {},
   "source": [
    "<i>4.4 Python While Loops - Part 2</i>"
   ]
  },
  {
   "cell_type": "code",
   "execution_count": 31,
   "id": "a03e6b7b",
   "metadata": {},
   "outputs": [
    {
     "name": "stdout",
     "output_type": "stream",
     "text": [
      "terdapat angka minus dalam tagihan, perhitungan dihentikan!\n",
      "-1\n"
     ]
    }
   ],
   "source": [
    "tagihan = [50000, 75000, -150000, 125000, 300000, -50000, 200000]\n",
    "i = 0\n",
    "jumlah_tagihan = len(tagihan)\n",
    "total_tagihan = 0\n",
    "while i < jumlah_tagihan:\n",
    "    # jika terdapat tagihan ke-i yang bernilai minus (di bawah nol),\n",
    "    # pengulangan akan dihentikan\n",
    "    if tagihan[i] < 0:\n",
    "        total_tagihan = -1\n",
    "        print(\"terdapat angka minus dalam tagihan, perhitungan dihentikan!\")\n",
    "        break\n",
    "    total_tagihan += tagihan [i]\n",
    "    i += 1\n",
    "print(total_tagihan)"
   ]
  },
  {
   "cell_type": "markdown",
   "id": "8ea78f71",
   "metadata": {},
   "source": [
    "<i>4.5 Python While Loops - Part 3</i>"
   ]
  },
  {
   "cell_type": "code",
   "execution_count": 38,
   "id": "384498be",
   "metadata": {},
   "outputs": [
    {
     "name": "stdout",
     "output_type": "stream",
     "text": [
      "750000\n"
     ]
    }
   ],
   "source": [
    "tagihan = [50000, 75000, -150000, 125000, 300000, -50000, 200000]\n",
    "i = 0\n",
    "jumlah_tagihan = len(tagihan)\n",
    "total_tagihan = 0\n",
    "while i < jumlah_tagihan:\n",
    "    # jika terdapat tagihan ke-i yang bernilai minus (di bawah nol),\n",
    "    # abaikan tagihan ke-i dan lanjutkan ke tagihan berikutnya\n",
    "    if tagihan[i] < 0:\n",
    "        i += 1\n",
    "        continue\n",
    "    total_tagihan += tagihan[i]\n",
    "    i += 1\n",
    "print(total_tagihan)"
   ]
  },
  {
   "cell_type": "markdown",
   "id": "6c76ad26",
   "metadata": {},
   "source": [
    "<i>4.6 Python For Loops - Part 1</i>"
   ]
  },
  {
   "cell_type": "code",
   "execution_count": 39,
   "id": "498f0bc3",
   "metadata": {},
   "outputs": [
    {
     "name": "stdout",
     "output_type": "stream",
     "text": [
      "550000\n"
     ]
    }
   ],
   "source": [
    "list_tagihan = [50000, 75000, -150000, 125000, 300000, -50000, 200000]\n",
    "total_tagihan = 0\n",
    "for tagihan in list_tagihan: # untuk setiap tagihan dalam list_tagihan\n",
    "    total_tagihan += tagihan # tambahkan tagihan ke total_tagihan\n",
    "print(total_tagihan)"
   ]
  },
  {
   "cell_type": "markdown",
   "id": "54c964b3",
   "metadata": {},
   "source": [
    "<i>4.7 Python For Loops - Part 2</i>"
   ]
  },
  {
   "cell_type": "code",
   "execution_count": 40,
   "id": "1bc6368e",
   "metadata": {},
   "outputs": [
    {
     "name": "stdout",
     "output_type": "stream",
     "text": [
      "terdapat angka minus dalam tagihan, perhitungan dihentikan!\n",
      "125000\n"
     ]
    }
   ],
   "source": [
    "list_tagihan = [50000, 75000, -150000, 125000, 300000, -50000, 200000]\n",
    "total_tagihan = 0\n",
    "for tagihan in list_tagihan:\n",
    "    if tagihan < 0:\n",
    "        print(\"terdapat angka minus dalam tagihan, perhitungan dihentikan!\")\n",
    "        break\n",
    "    total_tagihan += tagihan\n",
    "print(total_tagihan)"
   ]
  },
  {
   "cell_type": "markdown",
   "id": "6bf93bec",
   "metadata": {},
   "source": [
    "<i>4.8 Python For Loops - Part 3</i>"
   ]
  },
  {
   "cell_type": "code",
   "execution_count": 41,
   "id": "b6784d33",
   "metadata": {},
   "outputs": [
    {
     "name": "stdout",
     "output_type": "stream",
     "text": [
      "Apel Malang\n",
      "Duku Malang\n",
      "Jeruk Malang\n",
      "Apel Palembang\n",
      "Duku Palembang\n",
      "Jeruk Palembang\n",
      "Apel Medan\n",
      "Duku Medan\n",
      "Jeruk Medan\n"
     ]
    }
   ],
   "source": [
    "list_daerah = ['Malang', 'Palembang', 'Medan']\n",
    "list_buah = ['Apel', 'Duku', 'Jeruk']\n",
    "for nama_daerah in list_daerah:\n",
    "    for nama_buah in list_buah:\n",
    "        print(nama_buah+\" \"+nama_daerah)"
   ]
  },
  {
   "cell_type": "markdown",
   "id": "f74730e6",
   "metadata": {},
   "source": [
    "<i>Tugas Praktek - 4c<br><br>\n",
    "Tugas:<br>\n",
    "Program yang akan aku bangun akan mengolah sebuah list yang bernama list_cash_flow. Setiap elemen dari list_cash_flow berisikan pengeluaran (bilangan negatif) dan pemasukan (bilangan positif) pada perusahaan<br>\n",
    "\n",
    "Dari list_cash_flow ini, aku akan menghitung total_pengeluaran dan total_pemasukan perusahaan.</i>"
   ]
  },
  {
   "cell_type": "code",
   "execution_count": 42,
   "id": "8ce9c8d0",
   "metadata": {},
   "outputs": [
    {
     "name": "stdout",
     "output_type": "stream",
     "text": [
      "12500000\n",
      "65000000\n"
     ]
    }
   ],
   "source": [
    "list_cash_flow = [\n",
    "2500000, 5000000, -1000000, -2500000, 5000000, 10000000,\n",
    "-5000000, 7500000, 10000000, -1500000, 25000000, -2500000\n",
    "]\n",
    "total_pengeluaran, total_pemasukan = 0, 0\n",
    "for dana in list_cash_flow:\n",
    "    if dana > 0:\n",
    "        total_pemasukan += dana\n",
    "    else:\n",
    "        total_pengeluaran += dana\n",
    "total_pengeluaran *= -1\n",
    "print(total_pengeluaran) \n",
    "print(total_pemasukan)"
   ]
  },
  {
   "cell_type": "markdown",
   "id": "e7b11116",
   "metadata": {},
   "source": [
    "<i>Mini Quiz - Ekspedisi Pamanku<br><br>\n",
    "Aku menyambar ponsel di meja dan membuka pesan singkat dari paman tempo hari yang menjelaskan jika paman harus mengeluarkan uang sebesar 1,5 juta per mobil dalam sehari. Tapi, beliau selalu kebingungan total pengeluaran per bulan karena adanya aturan ganjil-genap yang membuat pengoperasian mobil yang berbeda.<br>\n",
    "\n",
    "“Kalau begitu, aku akan masukkan variabel jumlah_hari berisi jumlah hari dalam sebulan dan variabel list_plat_nomor berisi seluruh nomor plat mobil milik paman,” gumamku sendiri. Kalau seperti ini paman hanya perlu mengganti variabel jumlah_hari atau modifikasi variabel list_plat_nomor untuk melacak total pengeluaran paman selama sebulan. Ide Cemerlang!</i>"
   ]
  },
  {
   "cell_type": "code",
   "execution_count": 43,
   "id": "a2b9f062",
   "metadata": {},
   "outputs": [
    {
     "name": "stdout",
     "output_type": "stream",
     "text": [
      "163500000\n"
     ]
    }
   ],
   "source": [
    "# Data\n",
    "uang_jalan = 1500000\n",
    "jumlah_hari = 31\n",
    "list_plat_nomor = [8993, 2198, 2501, 2735, 3772, 4837, 9152]\n",
    "# Pengecekan kendaraan dengan nomor pelat ganjil atau genap \n",
    "kendaraan_genap = 0\n",
    "kendaraan_ganjil = 0 \n",
    "for plat_nomor in list_plat_nomor:\n",
    "    if plat_nomor % 2 == 0:\n",
    "        kendaraan_genap += 1 \n",
    "    else:\n",
    "        kendaraan_ganjil += 1\n",
    "# Total pengeluaran untuk kendaraan dengan nomor pelat ganjil\n",
    "# dan genap dalam 1 bulan\n",
    "i = 1\n",
    "total_pengeluaran = 0\n",
    "while i<= jumlah_hari:\n",
    "    if i % 2 == 0:\n",
    "        total_pengeluaran += (kendaraan_genap * uang_jalan) \n",
    "    else:\n",
    "        total_pengeluaran += (kendaraan_ganjil * uang_jalan) \n",
    "    i += 1\n",
    "# Cetak total pengeluaran\n",
    "print(total_pengeluaran)"
   ]
  }
 ],
 "metadata": {
  "kernelspec": {
   "display_name": "Python 3 (ipykernel)",
   "language": "python",
   "name": "python3"
  },
  "language_info": {
   "codemirror_mode": {
    "name": "ipython",
    "version": 3
   },
   "file_extension": ".py",
   "mimetype": "text/x-python",
   "name": "python",
   "nbconvert_exporter": "python",
   "pygments_lexer": "ipython3",
   "version": "3.9.5"
  }
 },
 "nbformat": 4,
 "nbformat_minor": 5
}
