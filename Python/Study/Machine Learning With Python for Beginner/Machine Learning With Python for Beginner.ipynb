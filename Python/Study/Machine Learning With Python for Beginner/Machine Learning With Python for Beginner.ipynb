{
 "cells": [
  {
   "cell_type": "markdown",
   "id": "8d9344ee",
   "metadata": {},
   "source": [
    "<b>MACHINE LEARNING WITH PYTHON FOR BEGINNER</b><br><br>\n",
    "Nama: Andrean Yonathan | Email: and21yonathan@gmail.com |Telp/WA: +6289606707966"
   ]
  },
  {
   "cell_type": "markdown",
   "id": "c2128a28",
   "metadata": {},
   "source": [
    "Eksplorasi Data: Memahami Data dengan Statistik - Part 1"
   ]
  },
  {
   "cell_type": "code",
   "execution_count": 1,
   "id": "8ef3d3ec",
   "metadata": {
    "scrolled": true
   },
   "outputs": [],
   "source": [
    "# import library\n",
    "import pandas as pd\n",
    "import numpy as np\n",
    "import matplotlib.pyplot as plt\n",
    "import seaborn as sns"
   ]
  },
  {
   "cell_type": "markdown",
   "id": "5a3bf905",
   "metadata": {},
   "source": [
    "<b>1. Eksplorasi Data & Data Pre-processing</b>"
   ]
  },
  {
   "cell_type": "markdown",
   "id": "98702d50",
   "metadata": {},
   "source": [
    "<i>1.1 Eksplorasi Data: Memahami Data dengan Statistik - Part 1</i>"
   ]
  },
  {
   "cell_type": "code",
   "execution_count": 2,
   "id": "811f751d",
   "metadata": {},
   "outputs": [
    {
     "name": "stdout",
     "output_type": "stream",
     "text": [
      "Shape dataset: (12330, 18)\n",
      "\n",
      "Lima data teratas:\n",
      "    Administrative  Administrative_Duration  Informational  \\\n",
      "0             0.0                      0.0            0.0   \n",
      "1             0.0                      0.0            0.0   \n",
      "2             0.0                     -1.0            0.0   \n",
      "3             0.0                      0.0            0.0   \n",
      "4             0.0                      0.0            0.0   \n",
      "\n",
      "   Informational_Duration  ProductRelated  ProductRelated_Duration  \\\n",
      "0                     0.0             1.0                 0.000000   \n",
      "1                     0.0             2.0                64.000000   \n",
      "2                    -1.0             1.0                -1.000000   \n",
      "3                     0.0             2.0                 2.666667   \n",
      "4                     0.0            10.0               627.500000   \n",
      "\n",
      "   BounceRates  ExitRates  PageValues  SpecialDay Month  OperatingSystems  \\\n",
      "0         0.20       0.20         0.0         0.0   Feb                 1   \n",
      "1         0.00       0.10         0.0         0.0   Feb                 2   \n",
      "2         0.20       0.20         0.0         0.0   Feb                 4   \n",
      "3         0.05       0.14         0.0         0.0   Feb                 3   \n",
      "4         0.02       0.05         0.0         0.0   Feb                 3   \n",
      "\n",
      "   Browser  Region  TrafficType        VisitorType  Weekend  Revenue  \n",
      "0        1       1            1  Returning_Visitor    False    False  \n",
      "1        2       1            2  Returning_Visitor    False    False  \n",
      "2        1       9            3  Returning_Visitor    False    False  \n",
      "3        2       2            4  Returning_Visitor    False    False  \n",
      "4        3       1            4  Returning_Visitor     True    False  \n",
      "\n",
      "Informasi dataset:\n",
      "<class 'pandas.core.frame.DataFrame'>\n",
      "RangeIndex: 12330 entries, 0 to 12329\n",
      "Data columns (total 18 columns):\n",
      " #   Column                   Non-Null Count  Dtype  \n",
      "---  ------                   --------------  -----  \n",
      " 0   Administrative           12316 non-null  float64\n",
      " 1   Administrative_Duration  12316 non-null  float64\n",
      " 2   Informational            12316 non-null  float64\n",
      " 3   Informational_Duration   12316 non-null  float64\n",
      " 4   ProductRelated           12316 non-null  float64\n",
      " 5   ProductRelated_Duration  12316 non-null  float64\n",
      " 6   BounceRates              12316 non-null  float64\n",
      " 7   ExitRates                12316 non-null  float64\n",
      " 8   PageValues               12330 non-null  float64\n",
      " 9   SpecialDay               12330 non-null  float64\n",
      " 10  Month                    12330 non-null  object \n",
      " 11  OperatingSystems         12330 non-null  int64  \n",
      " 12  Browser                  12330 non-null  int64  \n",
      " 13  Region                   12330 non-null  int64  \n",
      " 14  TrafficType              12330 non-null  int64  \n",
      " 15  VisitorType              12330 non-null  object \n",
      " 16  Weekend                  12330 non-null  bool   \n",
      " 17  Revenue                  12330 non-null  bool   \n",
      "dtypes: bool(2), float64(10), int64(4), object(2)\n",
      "memory usage: 1.5+ MB\n",
      "None\n",
      "\n",
      "Statistik deskriptif:\n",
      "        Administrative  Administrative_Duration  Informational  \\\n",
      "count    12316.000000             12316.000000   12316.000000   \n",
      "mean         2.317798                80.906176       0.503979   \n",
      "std          3.322754               176.860432       1.270701   \n",
      "min          0.000000                -1.000000       0.000000   \n",
      "25%          0.000000                 0.000000       0.000000   \n",
      "50%          1.000000                 8.000000       0.000000   \n",
      "75%          4.000000                93.500000       0.000000   \n",
      "max         27.000000              3398.750000      24.000000   \n",
      "\n",
      "       Informational_Duration  ProductRelated  ProductRelated_Duration  \\\n",
      "count            12316.000000    12316.000000             12316.000000   \n",
      "mean                34.506387       31.763884              1196.037057   \n",
      "std                140.825479       44.490339              1914.372511   \n",
      "min                 -1.000000        0.000000                -1.000000   \n",
      "25%                  0.000000        7.000000               185.000000   \n",
      "50%                  0.000000       18.000000               599.766190   \n",
      "75%                  0.000000       38.000000              1466.479902   \n",
      "max               2549.375000      705.000000             63973.522230   \n",
      "\n",
      "        BounceRates     ExitRates    PageValues    SpecialDay  \\\n",
      "count  12316.000000  12316.000000  12330.000000  12330.000000   \n",
      "mean       0.022152      0.043003      5.889258      0.061427   \n",
      "std        0.048427      0.048527     18.568437      0.198917   \n",
      "min        0.000000      0.000000      0.000000      0.000000   \n",
      "25%        0.000000      0.014286      0.000000      0.000000   \n",
      "50%        0.003119      0.025124      0.000000      0.000000   \n",
      "75%        0.016684      0.050000      0.000000      0.000000   \n",
      "max        0.200000      0.200000    361.763742      1.000000   \n",
      "\n",
      "       OperatingSystems       Browser        Region   TrafficType  \n",
      "count      12330.000000  12330.000000  12330.000000  12330.000000  \n",
      "mean           2.124006      2.357097      3.147364      4.069586  \n",
      "std            0.911325      1.717277      2.401591      4.025169  \n",
      "min            1.000000      1.000000      1.000000      1.000000  \n",
      "25%            2.000000      2.000000      1.000000      2.000000  \n",
      "50%            2.000000      2.000000      3.000000      2.000000  \n",
      "75%            3.000000      2.000000      4.000000      4.000000  \n",
      "max            8.000000     13.000000      9.000000     20.000000  \n"
     ]
    }
   ],
   "source": [
    "dataset = pd.read_csv('https://storage.googleapis.com/dqlab-dataset/pythonTutorial/online_raw.csv')\n",
    "print('Shape dataset:', dataset.shape)\n",
    "print('\\nLima data teratas:\\n', dataset.head())\n",
    "print('\\nInformasi dataset:')\n",
    "print(dataset.info())\n",
    "print('\\nStatistik deskriptif:\\n', dataset.describe())"
   ]
  },
  {
   "cell_type": "markdown",
   "id": "703d7adb",
   "metadata": {},
   "source": [
    "<i>1.2 Eksplorasi Data: Memahami Data dengan Statistik - Part 2</i><br><br>\n",
    "Tugas praktik:<br>\n",
    "Sekarang coba inspeksi nilai korelasi dari fitur-fitur berikut pada dataset_corr yang telah diberikan\n",
    "\n",
    "*    ExitRates dan BounceRates\n",
    "*    Revenue dan PageValues\n",
    "*    TrafficType dan Weekend"
   ]
  },
  {
   "cell_type": "code",
   "execution_count": 3,
   "id": "a70096cc",
   "metadata": {},
   "outputs": [
    {
     "name": "stdout",
     "output_type": "stream",
     "text": [
      "Korelasi dataset:\n",
      "                          Administrative  Administrative_Duration  \\\n",
      "Administrative                 1.000000                 0.601466   \n",
      "Administrative_Duration        0.601466                 1.000000   \n",
      "Informational                  0.376782                 0.302647   \n",
      "Informational_Duration         0.255757                 0.237959   \n",
      "ProductRelated                 0.430832                 0.288869   \n",
      "ProductRelated_Duration        0.373647                 0.355238   \n",
      "BounceRates                   -0.223474                -0.144128   \n",
      "ExitRates                     -0.316192                -0.205618   \n",
      "PageValues                     0.098771                 0.067463   \n",
      "SpecialDay                    -0.095054                -0.073472   \n",
      "OperatingSystems              -0.006459                -0.007425   \n",
      "Browser                       -0.025243                -0.015525   \n",
      "Region                        -0.005680                -0.005681   \n",
      "TrafficType                   -0.033748                -0.014487   \n",
      "Weekend                        0.026404                 0.014987   \n",
      "Revenue                        0.138631                 0.093395   \n",
      "\n",
      "                         Informational  Informational_Duration  \\\n",
      "Administrative                0.376782                0.255757   \n",
      "Administrative_Duration       0.302647                0.237959   \n",
      "Informational                 1.000000                0.618965   \n",
      "Informational_Duration        0.618965                1.000000   \n",
      "ProductRelated                0.374098                0.279966   \n",
      "ProductRelated_Duration       0.387446                0.347300   \n",
      "BounceRates                  -0.116071               -0.074077   \n",
      "ExitRates                    -0.163539               -0.105205   \n",
      "PageValues                    0.048539                0.030787   \n",
      "SpecialDay                   -0.048328               -0.030658   \n",
      "OperatingSystems             -0.009435               -0.009596   \n",
      "Browser                      -0.038257               -0.019346   \n",
      "Region                       -0.029442               -0.027244   \n",
      "TrafficType                  -0.034510               -0.024731   \n",
      "Weekend                       0.035557                0.024054   \n",
      "Revenue                       0.095085                0.070250   \n",
      "\n",
      "                         ProductRelated  ProductRelated_Duration  BounceRates  \\\n",
      "Administrative                 0.430832                 0.373647    -0.223474   \n",
      "Administrative_Duration        0.288869                 0.355238    -0.144128   \n",
      "Informational                  0.374098                 0.387446    -0.116071   \n",
      "Informational_Duration         0.279966                 0.347300    -0.074077   \n",
      "ProductRelated                 1.000000                 0.860868    -0.204469   \n",
      "ProductRelated_Duration        0.860868                 1.000000    -0.184409   \n",
      "BounceRates                   -0.204469                -0.184409     1.000000   \n",
      "ExitRates                     -0.292219                -0.251645     0.913436   \n",
      "PageValues                     0.056067                 0.052623    -0.119357   \n",
      "SpecialDay                    -0.024190                -0.036598     0.073088   \n",
      "OperatingSystems               0.004193                 0.002885     0.023965   \n",
      "Browser                       -0.013326                -0.007549    -0.016009   \n",
      "Region                        -0.038318                -0.033263    -0.006731   \n",
      "TrafficType                   -0.043235                -0.036538     0.078894   \n",
      "Weekend                        0.016097                 0.007293    -0.046870   \n",
      "Revenue                        0.158280                 0.152130    -0.150621   \n",
      "\n",
      "                         ExitRates  PageValues  SpecialDay  OperatingSystems  \\\n",
      "Administrative           -0.316192    0.098771   -0.095054         -0.006459   \n",
      "Administrative_Duration  -0.205618    0.067463   -0.073472         -0.007425   \n",
      "Informational            -0.163539    0.048539   -0.048328         -0.009435   \n",
      "Informational_Duration   -0.105205    0.030787   -0.030658         -0.009596   \n",
      "ProductRelated           -0.292219    0.056067   -0.024190          0.004193   \n",
      "ProductRelated_Duration  -0.251645    0.052623   -0.036598          0.002885   \n",
      "BounceRates               0.913436   -0.119357    0.073088          0.023965   \n",
      "ExitRates                 1.000000   -0.174397    0.102899          0.014745   \n",
      "PageValues               -0.174397    1.000000   -0.063541          0.018508   \n",
      "SpecialDay                0.102899   -0.063541    1.000000          0.012652   \n",
      "OperatingSystems          0.014745    0.018508    0.012652          1.000000   \n",
      "Browser                  -0.004407    0.045592    0.003499          0.223013   \n",
      "Region                   -0.008836    0.011315   -0.016098          0.076775   \n",
      "TrafficType               0.078998    0.012532    0.052301          0.189154   \n",
      "Weekend                  -0.062942    0.012002   -0.016767          0.000284   \n",
      "Revenue                  -0.206886    0.492569   -0.082305         -0.014668   \n",
      "\n",
      "                          Browser    Region  TrafficType   Weekend   Revenue  \n",
      "Administrative          -0.025243 -0.005680    -0.033748  0.026404  0.138631  \n",
      "Administrative_Duration -0.015525 -0.005681    -0.014487  0.014987  0.093395  \n",
      "Informational           -0.038257 -0.029442    -0.034510  0.035557  0.095085  \n",
      "Informational_Duration  -0.019346 -0.027244    -0.024731  0.024054  0.070250  \n",
      "ProductRelated          -0.013326 -0.038318    -0.043235  0.016097  0.158280  \n",
      "ProductRelated_Duration -0.007549 -0.033263    -0.036538  0.007293  0.152130  \n",
      "BounceRates             -0.016009 -0.006731     0.078894 -0.046870 -0.150621  \n",
      "ExitRates               -0.004407 -0.008836     0.078998 -0.062942 -0.206886  \n",
      "PageValues               0.045592  0.011315     0.012532  0.012002  0.492569  \n",
      "SpecialDay               0.003499 -0.016098     0.052301 -0.016767 -0.082305  \n",
      "OperatingSystems         0.223013  0.076775     0.189154  0.000284 -0.014668  \n",
      "Browser                  1.000000  0.097393     0.111938 -0.040261  0.023984  \n",
      "Region                   0.097393  1.000000     0.047520 -0.000691 -0.011595  \n",
      "TrafficType              0.111938  0.047520     1.000000 -0.002221 -0.005113  \n",
      "Weekend                 -0.040261 -0.000691    -0.002221  1.000000  0.029295  \n",
      "Revenue                  0.023984 -0.011595    -0.005113  0.029295  1.000000  \n",
      "Distribusi Label (Revenue):\n",
      " False    10422\n",
      "True      1908\n",
      "Name: Revenue, dtype: int64\n",
      "\n",
      "Korelasi BounceRates-ExitRates: 0.9134364214595573\n",
      "\n",
      "Korelasi Revenue-PageValues: 0.49256929525120574\n",
      "\n",
      "Korelasi TrafficType-Weekend: -0.0022212292430310644\n"
     ]
    }
   ],
   "source": [
    "dataset_corr = dataset.corr()\n",
    "print('Korelasi dataset:\\n', dataset.corr())\n",
    "print('Distribusi Label (Revenue):\\n', dataset['Revenue'].value_counts())\n",
    "# Tugas praktek\n",
    "print('\\nKorelasi BounceRates-ExitRates:', dataset_corr.loc['BounceRates', 'ExitRates'])\n",
    "print('\\nKorelasi Revenue-PageValues:', dataset_corr.loc['Revenue', 'PageValues'])\n",
    "print('\\nKorelasi TrafficType-Weekend:', dataset_corr.loc['TrafficType', 'Weekend'])"
   ]
  },
  {
   "cell_type": "markdown",
   "id": "8ea58755",
   "metadata": {},
   "source": [
    "<i>1.3 Eksplorasi Data: Memahami Data dengan Visual</i>"
   ]
  },
  {
   "cell_type": "code",
   "execution_count": 4,
   "id": "93c269ce",
   "metadata": {},
   "outputs": [
    {
     "name": "stderr",
     "output_type": "stream",
     "text": [
      "C:\\Users\\USER\\AppData\\Local\\Programs\\Python\\Python39\\lib\\site-packages\\seaborn\\_decorators.py:36: FutureWarning: Pass the following variable as a keyword arg: x. From version 0.12, the only valid positional argument will be `data`, and passing other arguments without an explicit keyword will result in an error or misinterpretation.\n",
      "  warnings.warn(\n",
      "C:\\Users\\USER\\AppData\\Local\\Programs\\Python\\Python39\\lib\\site-packages\\seaborn\\_decorators.py:36: FutureWarning: Pass the following variable as a keyword arg: x. From version 0.12, the only valid positional argument will be `data`, and passing other arguments without an explicit keyword will result in an error or misinterpretation.\n",
      "  warnings.warn(\n"
     ]
    },
    {
     "data": {
      "image/png": "[encoded data removed]",
      "text/plain": [
       "<Figure size 864x360 with 2 Axes>"
      ]
     },
     "metadata": {
      "needs_background": "light"
     },
     "output_type": "display_data"
    }
   ],
   "source": [
    "# checking the Distribution of customers on Revenue\n",
    "plt.rcParams['figure.figsize'] = (12,5)\n",
    "plt.subplot(1, 2, 1)\n",
    "sns.countplot(dataset['Revenue'], palette = 'pastel')\n",
    "plt.title('Buy or Not', fontsize = 20)\n",
    "plt.xlabel('Revenue or Not', fontsize = 14)\n",
    "plt.ylabel('Count', fontsize = 14)\n",
    "# checking the Distribution of customers on Weekend\n",
    "plt.subplot(1, 2, 2)\n",
    "sns.countplot(dataset['Weekend'], palette = 'inferno')\n",
    "plt.title('Purchase on Weekends', fontsize = 20)\n",
    "plt.xlabel('Weekend or Not', fontsize = 14)\n",
    "plt.ylabel('Count', fontsize = 14)\n",
    "plt.show()"
   ]
  },
  {
   "cell_type": "markdown",
   "id": "bae7a917",
   "metadata": {},
   "source": [
    "<i>1.4 Tugas Praktek</i><br><br>\n",
    "Aku kemudian diminta Senja untuk membuat visualisasi berupa histogram yang menggambarkan jumlah customer untuk setiap Region.\n",
    "\n",
    "Dalam membuat visualisasi ini aku akan menggunakan dataset['Region'] untuk membuat histogram, dan berikan judul 'Distribution of Customers' pada title, 'Region Codes' sebagai label axis-x dan 'Count Users' sebagai label axis-y."
   ]
  },
  {
   "cell_type": "code",
   "execution_count": 5,
   "id": "af5cb2be",
   "metadata": {},
   "outputs": [
    {
     "data": {
      "image/png": "[encoded data removed]",
      "text/plain": [
       "<Figure size 864x360 with 1 Axes>"
      ]
     },
     "metadata": {
      "needs_background": "light"
     },
     "output_type": "display_data"
    }
   ],
   "source": [
    "# visualizing the distribution of customers around the Region\n",
    "plt.hist(dataset['Region'], color = 'lightblue')\n",
    "plt.title('Distribution of Customers', fontsize = 20)\n",
    "plt.xlabel('Region Codes', fontsize = 14)\n",
    "plt.ylabel('Count Users', fontsize = 14)\n",
    "plt.show()"
   ]
  },
  {
   "cell_type": "markdown",
   "id": "b827d3af",
   "metadata": {},
   "source": [
    "<i>1.5 Data Pre-processing: Handling Missing Value - Part 1</i>"
   ]
  },
  {
   "cell_type": "code",
   "execution_count": 6,
   "id": "6c57cba8",
   "metadata": {},
   "outputs": [
    {
     "name": "stdout",
     "output_type": "stream",
     "text": [
      "Checking missing value for each feature:\n",
      "Administrative             14\n",
      "Administrative_Duration    14\n",
      "Informational              14\n",
      "Informational_Duration     14\n",
      "ProductRelated             14\n",
      "ProductRelated_Duration    14\n",
      "BounceRates                14\n",
      "ExitRates                  14\n",
      "PageValues                  0\n",
      "SpecialDay                  0\n",
      "Month                       0\n",
      "OperatingSystems            0\n",
      "Browser                     0\n",
      "Region                      0\n",
      "TrafficType                 0\n",
      "VisitorType                 0\n",
      "Weekend                     0\n",
      "Revenue                     0\n",
      "dtype: int64\n",
      "\n",
      "Counting total missing value:\n",
      "112\n"
     ]
    }
   ],
   "source": [
    "#checking missing value for each feature  \n",
    "print('Checking missing value for each feature:')\n",
    "print(dataset.isnull().sum())\n",
    "#Counting total missing value\n",
    "print('\\nCounting total missing value:')\n",
    "print(dataset.isnull().sum().sum())"
   ]
  },
  {
   "cell_type": "markdown",
   "id": "315eeb87",
   "metadata": {},
   "source": [
    "<i>1.6 Data Pre-processing: Handling Missing Value - Part 2</i>"
   ]
  },
  {
   "cell_type": "code",
   "execution_count": 7,
   "id": "6bb2ca7c",
   "metadata": {},
   "outputs": [
    {
     "name": "stdout",
     "output_type": "stream",
     "text": [
      "Ukuran dataset_clean: (12316, 18)\n"
     ]
    }
   ],
   "source": [
    "#Drop rows with missing value   \n",
    "dataset_clean = dataset.dropna()  \n",
    "print('Ukuran dataset_clean:', dataset_clean.shape)"
   ]
  },
  {
   "cell_type": "markdown",
   "id": "66d4ac45",
   "metadata": {},
   "source": [
    "<i>1.7 Data Pre-processing: Handling Missing Value - Part 3</i>"
   ]
  },
  {
   "cell_type": "code",
   "execution_count": 8,
   "id": "e91c9cd2",
   "metadata": {},
   "outputs": [
    {
     "name": "stdout",
     "output_type": "stream",
     "text": [
      "Before imputation:\n",
      "Administrative             14\n",
      "Administrative_Duration    14\n",
      "Informational              14\n",
      "Informational_Duration     14\n",
      "ProductRelated             14\n",
      "ProductRelated_Duration    14\n",
      "BounceRates                14\n",
      "ExitRates                  14\n",
      "PageValues                  0\n",
      "SpecialDay                  0\n",
      "Month                       0\n",
      "OperatingSystems            0\n",
      "Browser                     0\n",
      "Region                      0\n",
      "TrafficType                 0\n",
      "VisitorType                 0\n",
      "Weekend                     0\n",
      "Revenue                     0\n",
      "dtype: int64\n",
      "112\n",
      "\n",
      "After imputation:\n",
      "Administrative             0\n",
      "Administrative_Duration    0\n",
      "Informational              0\n",
      "Informational_Duration     0\n",
      "ProductRelated             0\n",
      "ProductRelated_Duration    0\n",
      "BounceRates                0\n",
      "ExitRates                  0\n",
      "PageValues                 0\n",
      "SpecialDay                 0\n",
      "Month                      0\n",
      "OperatingSystems           0\n",
      "Browser                    0\n",
      "Region                     0\n",
      "TrafficType                0\n",
      "VisitorType                0\n",
      "Weekend                    0\n",
      "Revenue                    0\n",
      "dtype: int64\n",
      "0\n"
     ]
    }
   ],
   "source": [
    "print(\"Before imputation:\")\n",
    "# Checking missing value for each feature  \n",
    "print(dataset.isnull().sum())\n",
    "# Counting total missing value  \n",
    "print(dataset.isnull().sum().sum())\n",
    "\n",
    "print(\"\\nAfter imputation:\")\n",
    "# Fill missing value with mean of feature value  \n",
    "dataset.fillna(dataset.mean(), inplace = True)\n",
    "# Checking missing value for each feature  \n",
    "print(dataset.isnull().sum())\n",
    "# Counting total missing value  \n",
    "print(dataset.isnull().sum().sum())"
   ]
  },
  {
   "cell_type": "markdown",
   "id": "55b03bae",
   "metadata": {},
   "source": [
    "<i>1.8 Tugas Praktek</i><br><br>\n",
    "Praktekkan metode imputing missing value dengan menggunakan nilai median."
   ]
  },
  {
   "cell_type": "code",
   "execution_count": 9,
   "id": "c779df0a",
   "metadata": {},
   "outputs": [
    {
     "name": "stdout",
     "output_type": "stream",
     "text": [
      "Before imputation:\n",
      "Administrative             14\n",
      "Administrative_Duration    14\n",
      "Informational              14\n",
      "Informational_Duration     14\n",
      "ProductRelated             14\n",
      "ProductRelated_Duration    14\n",
      "BounceRates                14\n",
      "ExitRates                  14\n",
      "PageValues                  0\n",
      "SpecialDay                  0\n",
      "Month                       0\n",
      "OperatingSystems            0\n",
      "Browser                     0\n",
      "Region                      0\n",
      "TrafficType                 0\n",
      "VisitorType                 0\n",
      "Weekend                     0\n",
      "Revenue                     0\n",
      "dtype: int64\n",
      "112\n",
      "\n",
      "After imputation:\n",
      "Administrative             0\n",
      "Administrative_Duration    0\n",
      "Informational              0\n",
      "Informational_Duration     0\n",
      "ProductRelated             0\n",
      "ProductRelated_Duration    0\n",
      "BounceRates                0\n",
      "ExitRates                  0\n",
      "PageValues                 0\n",
      "SpecialDay                 0\n",
      "Month                      0\n",
      "OperatingSystems           0\n",
      "Browser                    0\n",
      "Region                     0\n",
      "TrafficType                0\n",
      "VisitorType                0\n",
      "Weekend                    0\n",
      "Revenue                    0\n",
      "dtype: int64\n",
      "0\n"
     ]
    }
   ],
   "source": [
    "dataset1 = pd.read_csv('https://storage.googleapis.com/dqlab-dataset/pythonTutorial/online_raw.csv')\n",
    "\n",
    "print(\"Before imputation:\")\n",
    "# Checking missing value for each feature  \n",
    "print(dataset1.isnull().sum())\n",
    "# Counting total missing value  \n",
    "print(dataset1.isnull().sum().sum())\n",
    "\n",
    "print(\"\\nAfter imputation:\")\n",
    "# Fill missing value with median of feature value  \n",
    "dataset1.fillna(dataset1.median(), inplace = True)\n",
    "# Checking missing value for each feature  \n",
    "print(dataset1.isnull().sum())\n",
    "# Counting total missing value  \n",
    "print(dataset1.isnull().sum().sum())"
   ]
  },
  {
   "cell_type": "markdown",
   "id": "2f125632",
   "metadata": {},
   "source": [
    "<i>1.9 Tugas Praktek</i>"
   ]
  },
  {
   "cell_type": "code",
   "execution_count": null,
   "id": "63acfab2",
   "metadata": {},
   "outputs": [],
   "source": [
    "dataset.fillna(dataset.mean(), inplace = True)\n",
    "\n",
    "from sklearn.preprocessing import MinMaxScaler  \n",
    "#Define MinMaxScaler as scaler  \n",
    "scaler = MinMaxScaler()  \n",
    "#list all the feature that need to be scaled  \n",
    "scaling_column = ['Administrative','Administrative_Duration','Informational',\n",
    "                  'Informational_Duration','ProductRelated','ProductRelated_Duration',\n",
    "                  'BounceRates','ExitRates','PageValues']\n",
    "#Apply fit_transfrom to scale selected feature  \n",
    "dataset[scaling_column] = scaler.fit_transform(dataset[scaling_column])\n",
    "#Cheking min and max value of the scaling_column\n",
    "print(dataset[scaling_column].describe().T[['min','max']])"
   ]
  },
  {
   "cell_type": "markdown",
   "id": "2b85fb74",
   "metadata": {},
   "source": [
    "<i>1.10 Data Pre-processing: Konversi string ke numerik</i>"
   ]
  },
  {
   "cell_type": "code",
   "execution_count": null,
   "id": "60205d85",
   "metadata": {},
   "outputs": [],
   "source": [
    "from sklearn.preprocessing import LabelEncoder\n",
    "# Convert feature/column 'Month'\n",
    "LE = LabelEncoder()\n",
    "dataset['Month'] = LE.fit_transform(dataset['Month'])\n",
    "print(LE.classes_)\n",
    "print(np.sort(dataset['Month'].unique()))\n",
    "print('')\n",
    "\n",
    "# Convert feature/column 'VisitorType'\n",
    "LE = LabelEncoder()\n",
    "dataset['VisitorType'] = LE.fit_transform(dataset['VisitorType'])\n",
    "print(LE.classes_)\n",
    "print(np.sort(dataset['VisitorType'].unique()))"
   ]
  },
  {
   "cell_type": "markdown",
   "id": "50e0fc3e",
   "metadata": {},
   "source": [
    "<b>=====================================================================================</b>"
   ]
  },
  {
   "cell_type": "markdown",
   "id": "9ea6f686",
   "metadata": {},
   "source": [
    "<b>2. Pemodelan Dengan Scikit-Learn</b>"
   ]
  },
  {
   "cell_type": "markdown",
   "id": "e5aa7909",
   "metadata": {},
   "source": [
    "<i>2.1 Features & Labels</i>"
   ]
  },
  {
   "cell_type": "code",
   "execution_count": null,
   "id": "8dc1b2d6",
   "metadata": {},
   "outputs": [],
   "source": [
    "# removing the target column Revenue from dataset and assigning to X\n",
    "X = dataset.drop(['Revenue'], axis = 1)\n",
    "# assigning the target column Revenue to y\n",
    "y = dataset['Revenue']\n",
    "# checking the shapes\n",
    "print(\"Shape of X:\", X.shape)\n",
    "print(\"Shape of y:\", y.shape)"
   ]
  },
  {
   "cell_type": "markdown",
   "id": "384fa914",
   "metadata": {},
   "source": [
    "<i>2.2 Training and Test Dataset</i>"
   ]
  },
  {
   "cell_type": "code",
   "execution_count": null,
   "id": "6912c017",
   "metadata": {},
   "outputs": [],
   "source": [
    "from sklearn.model_selection import train_test_split\n",
    "# splitting the X, and y\n",
    "X_train, X_test, y_train, y_test = train_test_split(X, y, test_size = 0.2, random_state = 0)\n",
    "# checking the shapes\n",
    "print(\"Shape of X_train:\", X_train.shape)\n",
    "print(\"Shape of y_train:\", y_train.shape)\n",
    "print(\"Shape of X_test:\", X_test.shape)\n",
    "print(\"Shape of y_test:\", y_test.shape)"
   ]
  },
  {
   "cell_type": "markdown",
   "id": "75d3a2e9",
   "metadata": {},
   "source": [
    "<i>2.3 Training Model: Fit</i>"
   ]
  },
  {
   "cell_type": "code",
   "execution_count": null,
   "id": "7b2fa054",
   "metadata": {},
   "outputs": [],
   "source": [
    "from sklearn.tree import DecisionTreeClassifier\n",
    "# Call the classifier\n",
    "model = DecisionTreeClassifier()\n",
    "# Fit the classifier to the training data\n",
    "model = model.fit(X_train, y_train)"
   ]
  },
  {
   "cell_type": "markdown",
   "id": "139bc961",
   "metadata": {},
   "source": [
    "<i>2.4 Training Model: Predict</i>"
   ]
  },
  {
   "cell_type": "code",
   "execution_count": null,
   "id": "e445e01d",
   "metadata": {},
   "outputs": [],
   "source": [
    "# Apply the classifier/model to the test data\n",
    "y_pred = model.predict(X_test)\n",
    "print(y_pred.shape)"
   ]
  },
  {
   "cell_type": "markdown",
   "id": "44454775",
   "metadata": {},
   "source": [
    "<i>2.5 Evaluasi Model Performance Part - 2</i>"
   ]
  },
  {
   "cell_type": "code",
   "execution_count": null,
   "id": "02c4ba6e",
   "metadata": {},
   "outputs": [],
   "source": [
    "from sklearn.metrics import confusion_matrix, classification_report\n",
    "\n",
    "# evaluating the model\n",
    "print('Training Accuracy :', model.score(X_train, y_train))\n",
    "print('Testing Accuracy :', model.score(X_test, y_test))\n",
    "\n",
    "# confusion matrix\n",
    "print('\\nConfusion matrix:')\n",
    "cm = confusion_matrix(y_test, y_pred)\n",
    "print(cm)\n",
    "\n",
    "# classification report\n",
    "print('\\nClassification report:')\n",
    "cr = classification_report(y_test, y_pred)\n",
    "print(cr)"
   ]
  },
  {
   "cell_type": "markdown",
   "id": "a0eacc1a",
   "metadata": {},
   "source": [
    "<b>=====================================================================================</b>"
   ]
  },
  {
   "cell_type": "markdown",
   "id": "a13ff7f7",
   "metadata": {},
   "source": [
    "<b>3. Supervised Learning - Algorithm</b>"
   ]
  },
  {
   "cell_type": "markdown",
   "id": "d28f0b08",
   "metadata": {},
   "source": [
    "<i>3.1 Pemodelan Permasalahan Klasifikasi dengan Logistic Regression</i>"
   ]
  },
  {
   "cell_type": "code",
   "execution_count": null,
   "id": "af00d2fe",
   "metadata": {},
   "outputs": [],
   "source": [
    "from sklearn.linear_model import LogisticRegression\n",
    "from sklearn.metrics import confusion_matrix, classification_report\n",
    "\n",
    "# Call the classifier\n",
    "logreg = LogisticRegression()\n",
    "# Fit the classifier to the training data  \n",
    "logreg = logreg.fit(X_train, y_train)\n",
    "#Training Model: Predict \n",
    "y_pred = logreg.predict(X_test)\n",
    "\n",
    "#Evaluate Model Performance\n",
    "print('Training Accuracy :', logreg.score(X_train, y_train))  \n",
    "print('Testing Accuracy :', logreg.score(X_test, y_test))  \n",
    "\n",
    "# confusion matrix\n",
    "print('\\nConfusion matrix')  \n",
    "cm = confusion_matrix(y_test, y_pred)  \n",
    "print(cm)\n",
    "\n",
    "# classification report  \n",
    "print('\\nClassification report')  \n",
    "cr = classification_report(y_test, y_pred)  \n",
    "print(cr)"
   ]
  },
  {
   "cell_type": "markdown",
   "id": "8ce86d29",
   "metadata": {},
   "source": [
    "<i>3.2 Tugas Praktek - Decision Tree</i><br><br>\n",
    "Dengan menggunakan dataset online_raw.csv dan diasumsikan sudah melakukan EDA dan pre-processing, aku akan membuat model machine learning dengan menggunakan decision tree"
   ]
  },
  {
   "cell_type": "code",
   "execution_count": null,
   "id": "d641df7d",
   "metadata": {},
   "outputs": [],
   "source": [
    "from sklearn.preprocessing import LabelEncoder\n",
    "LE = LabelEncoder()\n",
    "dataset['Month'] = LE.fit_transform(dataset['Month'])\n",
    "LE = LabelEncoder()\n",
    "dataset['VisitorType'] = LE.fit_transform(dataset['VisitorType'])\n",
    "X = dataset.drop(['Revenue'], axis = 1)\n",
    "y = dataset['Revenue']\n",
    "\n",
    "from sklearn.model_selection import train_test_split\n",
    "from sklearn.tree import DecisionTreeClassifier\n",
    "\n",
    "# splitting the data\n",
    "X_train, X_test, y_train, y_test = train_test_split(X, y, test_size = 0.3, random_state = 0)\n",
    "\n",
    "# Call the classifier\n",
    "decision_tree = DecisionTreeClassifier()\n",
    "# Fit the classifier to the training data\n",
    "decision_tree = decision_tree.fit(X_train, y_train)\n",
    "\n",
    "# evaluating the decision_tree performance\n",
    "print('Training Accuracy :', decision_tree.score(X_train, y_train))\n",
    "print('Testing Accuracy :', decision_tree.score(X_test, y_test))"
   ]
  },
  {
   "cell_type": "markdown",
   "id": "2e7438e1",
   "metadata": {},
   "source": [
    "<i>3.3 Tugas Praktek - Linear Regression</i>"
   ]
  },
  {
   "cell_type": "code",
   "execution_count": null,
   "id": "45c5425c",
   "metadata": {},
   "outputs": [],
   "source": [
    "#load dataset\n",
    "housing = pd.read_csv('https://storage.googleapis.com/dqlab-dataset/pythonTutorial/housing_boston.csv')\n",
    "#Data rescaling\n",
    "from sklearn import preprocessing\n",
    "data_scaler = preprocessing.MinMaxScaler(feature_range=(0,1))\n",
    "housing[['RM','LSTAT','PTRATIO','MEDV']] = data_scaler.fit_transform(housing[['RM','LSTAT',\n",
    "                                                                              'PTRATIO','MEDV']])\n",
    "# getting dependent and independent variables\n",
    "X = housing.drop(['MEDV'], axis = 1)\n",
    "y = housing['MEDV']\n",
    "# checking the shapes\n",
    "print('Shape of X:', X.shape)\n",
    "print('Shape of y:', y.shape)\n",
    "\n",
    "# splitting the data\n",
    "from sklearn.model_selection import train_test_split\n",
    "X_train, X_test, y_train, y_test = train_test_split(X, y, test_size = 0.3, random_state = 0)\n",
    "# checking the shapes  \n",
    "print('Shape of X_train :', X_train.shape)\n",
    "print('Shape of y_train :', y_train.shape)\n",
    "print('Shape of X_test :', X_test.shape)\n",
    "print('Shape of y_test :', y_test.shape)\n",
    "\n",
    "##import regressor from Scikit-Learn\n",
    "from sklearn.linear_model import LinearRegression\n",
    "# Call the regressor\n",
    "reg = LinearRegression()\n",
    "# Fit the regressor to the training data  \n",
    "reg = reg.fit(X_train, y_train)\n",
    "# Apply the regressor/model to the test data  \n",
    "y_pred = reg.predict(X_test)"
   ]
  },
  {
   "cell_type": "markdown",
   "id": "7e889d25",
   "metadata": {},
   "source": [
    "<i>3.4 Tugas Praktek - Linear Regression 2</i><br><br>\n",
    "Hitung nilai MSE, MAE, dan RMSE dari linear modelnya"
   ]
  },
  {
   "cell_type": "code",
   "execution_count": null,
   "id": "3dd76ade",
   "metadata": {
    "scrolled": true
   },
   "outputs": [],
   "source": [
    "from sklearn.metrics import mean_squared_error, mean_absolute_error\n",
    "#Calculating MSE, lower the value better it is. 0 means perfect prediction\n",
    "mse = mean_squared_error(y_test, y_pred)\n",
    "print('Mean squared error of testing set:', mse)\n",
    "#Calculating MAE\n",
    "mae = mean_absolute_error(y_test, y_pred)\n",
    "print('Mean absolute error of testing set:', mae)\n",
    "#Calculating RMSE\n",
    "rmse = np.sqrt(mse)\n",
    "print('Root Mean Squared Error of testing set:', rmse)\n",
    "\n",
    "#Plotting y_test dan y_pred\n",
    "plt.scatter(y_test, y_pred, c = 'green')\n",
    "plt.xlabel('Price Actual')\n",
    "plt.ylabel('Predicted value')\n",
    "plt.title('True value vs predicted value : Linear Regression')\n",
    "plt.show()"
   ]
  },
  {
   "cell_type": "markdown",
   "id": "53426df7",
   "metadata": {},
   "source": [
    "<b>=====================================================================================</b>"
   ]
  },
  {
   "cell_type": "markdown",
   "id": "2c204412",
   "metadata": {},
   "source": [
    "<b>4. Unsupervised Learning - Algorithm</b>"
   ]
  },
  {
   "cell_type": "markdown",
   "id": "2a2cd02a",
   "metadata": {},
   "source": [
    "<i>Tugas Praktek - 1</i>"
   ]
  },
  {
   "cell_type": "code",
   "execution_count": null,
   "id": "9c50be42",
   "metadata": {},
   "outputs": [],
   "source": [
    "from sklearn.cluster import KMeans\n",
    "\n",
    "#load dataset\n",
    "dataset = pd.read_csv('https://storage.googleapis.com/dqlab-dataset/pythonTutorial/mall_customers.csv')\n",
    "\n",
    "#selecting features  \n",
    "X = dataset[['annual_income','spending_score']]  \n",
    "\n",
    "#Define KMeans as cluster_model  \n",
    "cluster_model = KMeans(n_clusters = 5, random_state = 24)  \n",
    "labels = cluster_model.fit_predict(X)"
   ]
  },
  {
   "cell_type": "markdown",
   "id": "e2516daf",
   "metadata": {},
   "source": [
    "<i>Tugas Praktek - 2</i><br>\n",
    "<i>Inspect & Visualizing the Cluster</i>"
   ]
  },
  {
   "cell_type": "code",
   "execution_count": null,
   "id": "2acee3a2",
   "metadata": {},
   "outputs": [],
   "source": [
    "#convert dataframe to array\n",
    "X = X.values\n",
    "#Separate X to xs and ys --> use for chart axis\n",
    "xs = X[:,0]\n",
    "ys = X[:,1]\n",
    "# Make a scatter plot of xs and ys, using labels to define the colors\n",
    "plt.scatter(xs,ys,c=labels, alpha=0.5)\n",
    "\n",
    "# Assign the cluster centers: centroids\n",
    "centroids = cluster_model.cluster_centers_\n",
    "# Assign the columns of centroids: centroids_x, centroids_y\n",
    "centroids_x = centroids[:,0]\n",
    "centroids_y = centroids[:,1]\n",
    "# Make a scatter plot of centroids_x and centroids_y\n",
    "plt.scatter(centroids_x,centroids_y,marker='D', s=50)\n",
    "plt.title('K Means Clustering', fontsize = 20)\n",
    "plt.xlabel('Annual Income')\n",
    "plt.ylabel('Spending Score')\n",
    "plt.show()"
   ]
  },
  {
   "cell_type": "markdown",
   "id": "cf2b5ec4",
   "metadata": {},
   "source": [
    "<i>Tugas Praktek - 3</i><br>\n",
    "<i>The Elbow Method</i>"
   ]
  },
  {
   "cell_type": "code",
   "execution_count": null,
   "id": "f3cce3ec",
   "metadata": {},
   "outputs": [],
   "source": [
    "#Elbow Method - Inertia plot\n",
    "inertia = []\n",
    "#looping the inertia calculation for each k\n",
    "for k in range(1, 10):\n",
    "    #Assign KMeans as cluster_model\n",
    "    cluster_model = KMeans(n_clusters = k, random_state = 24)\n",
    "    #Fit cluster_model to X\n",
    "    cluster_model.fit(X)\n",
    "    #Get the inertia value\n",
    "    inertia_value = cluster_model.inertia_\n",
    "    #Append the inertia_value to inertia list\n",
    "    inertia.append(inertia_value)\n",
    "    \n",
    "##Inertia plot\n",
    "plt.plot(range(1, 10), inertia)\n",
    "plt.title('The Elbow Method - Inertia plot', fontsize = 20)\n",
    "plt.xlabel('No. of Clusters')\n",
    "plt.ylabel('Inertia')\n",
    "plt.show()"
   ]
  },
  {
   "cell_type": "markdown",
   "id": "324c8a98",
   "metadata": {},
   "source": [
    "<b>=====================================================================================</b>"
   ]
  },
  {
   "cell_type": "markdown",
   "id": "340f61e3",
   "metadata": {},
   "source": [
    "<b>====================================MINI PROJECT====================================</b>\n",
    "<i>Mini project ini akan membuat model machine learning untuk menyelesaikan permasalahan di e-commerce kita yaitu memprediksi apakah user- user yang sedang mengunjungi halaman website yang baru akan mengklik banner promo (ads) di halaman tersebut atau tidak berdasarkan feature yang ada. Dataset yang digunakan berasal dari https://storage.googleapis.com/dqlab-dataset/pythonTutorial/ecommerce_banner_promo.csv</i><br><br>\n",
    "<i>Adapun feature-feature yang terdapat dalam dataset ini adalah<br>\n",
    "1.  'Daily Time Spent on Site' : lama waktu user mengunjungi site (menit)<br>\n",
    "2.  'Age' : usia user (tahun)<br>\n",
    "3.  'Area Income' : rata - rata pendapatan di daerah sekitar user<br>\n",
    "4.  'Daily Internet Usage' : rata - rata waktu yang dihabiskan user di internet dalam sehari (menit)<br>\n",
    "5.  'Ad Topic Line' : topik/konten dari promo banner<br>\n",
    "6.  'City' : kota dimana user mengakses website<br>\n",
    "7.  'Male' : apakah user adalah Pria atau bukan<br>\n",
    "8.  'Country' : negara dimana user mengakses website<br>\n",
    "9.  'Timestamp' : waktu saat user mengklik promo banner atau keluar dari halaman website tanpa mengklik banner<br>\n",
    "10.  'Clicked on Ad' : mengindikasikan user mengklik promo banner atau tidak (0 = tidak; 1 = klik).</i>"
   ]
  },
  {
   "cell_type": "markdown",
   "id": "a0a2a082",
   "metadata": {},
   "source": [
    "<i>Case Study: Promos for our e-commerce - Part 1</i>"
   ]
  },
  {
   "cell_type": "code",
   "execution_count": null,
   "id": "a9639fab",
   "metadata": {},
   "outputs": [],
   "source": [
    "# Baca data 'ecommerce_banner_promo.csv'\n",
    "data = pd.read_csv('https://storage.googleapis.com/dqlab-dataset/pythonTutorial/ecommerce_banner_promo.csv')\n",
    "\n",
    "#1. Data eksplorasi dengan head(), info(), describe(), shape\n",
    "print(\"\\n[1] Data eksplorasi dengan head(), info(), describe(), shape\")\n",
    "print(\"Lima data teratas:\")\n",
    "print(data.head())\n",
    "print(\"Informasi dataset:\")\n",
    "print(data.info())\n",
    "print(\"Statistik deskriptif dataset:\")\n",
    "print(data.describe())\n",
    "print(\"Ukuran dataset:\")\n",
    "print(data.shape)"
   ]
  },
  {
   "cell_type": "markdown",
   "id": "a41030ad",
   "metadata": {},
   "source": [
    "<i>Case Study: Promos for our e-commerce - Part 2</i>"
   ]
  },
  {
   "cell_type": "code",
   "execution_count": null,
   "id": "d60d8bab",
   "metadata": {},
   "outputs": [],
   "source": [
    "#2. Data eksplorasi dengan dengan mengecek korelasi dari setiap feature menggunakan fungsi corr()\n",
    "print(\"\\n[2] Data eksplorasi dengan dengan mengecek korelasi dari setiap feature menggunakan fungsi corr()\")\n",
    "print(data.corr())\n",
    "\n",
    "#3. Data eksplorasi dengan mengecek distribusi label menggunakan fungsi groupby() dan size()\n",
    "print(\"\\n[3] Data eksplorasi dengan mengecek distribusi label menggunakan fungsi groupby() dan size()\")\n",
    "print(data.groupby('Clicked on Ad').size())"
   ]
  },
  {
   "cell_type": "markdown",
   "id": "9e386e7f",
   "metadata": {},
   "source": [
    "<i>Case Study: Promos for our e-commerce - Part 3</i>"
   ]
  },
  {
   "cell_type": "code",
   "execution_count": null,
   "id": "984bd4d9",
   "metadata": {
    "scrolled": true
   },
   "outputs": [],
   "source": [
    "# Seting: matplotlib and seaborn\n",
    "sns.set_style('whitegrid')  \n",
    "plt.style.use('fivethirtyeight')\n",
    "\n",
    "#4. Data eksplorasi dengan visualisasi\n",
    "#4a. Visualisasi Jumlah user dibagi ke dalam rentang usia (Age) menggunakan histogram (hist()) plot\n",
    "plt.figure(figsize=(10, 5))\n",
    "plt.hist(data['Age'], bins = data.Age.nunique())\n",
    "plt.xlabel('Age')\n",
    "plt.tight_layout()\n",
    "plt.show()\n",
    "\n",
    "#4b. Gunakan pairplot() dari seaborn (sns) modul untuk menggambarkan hubungan setiap feature.\n",
    "plt.figure()\n",
    "sns.pairplot(data)\n",
    "plt.show()"
   ]
  },
  {
   "cell_type": "markdown",
   "id": "ebf336c4",
   "metadata": {},
   "source": [
    "<i>Case Study: Promos for our e-commerce - Part 4</i>"
   ]
  },
  {
   "cell_type": "code",
   "execution_count": null,
   "id": "84b046b9",
   "metadata": {},
   "outputs": [],
   "source": [
    "#5. Cek missing value\n",
    "print(\"\\n[5] Cek missing value\")\n",
    "print(data.isnull().sum().sum())"
   ]
  },
  {
   "cell_type": "markdown",
   "id": "4f9d0e3b",
   "metadata": {},
   "source": [
    "<i>Case Study: Promos for our e-commerce - Part 5</i>"
   ]
  },
  {
   "cell_type": "code",
   "execution_count": null,
   "id": "abb53a94",
   "metadata": {},
   "outputs": [],
   "source": [
    "#import library\n",
    "from sklearn.model_selection import train_test_split\n",
    "from sklearn.linear_model import LogisticRegression\n",
    "\n",
    "#6.Lakukan pemodelan dengan Logistic Regression, gunakan perbandingan 80:20 untuk training vs testing\n",
    "print(\"\\n[6] Lakukan pemodelan dengan Logistic Regression, gunakan perbandingan 80:20 untuk training vs testing\")\n",
    "#6a.Drop Non-Numerical (object type) feature from X, as Logistic Regression can only take numbers, and also drop Target/label, assign Target Variable to y.   \n",
    "X = data.drop(['Ad Topic Line','City','Country','Timestamp','Clicked on Ad'], axis = 1)\n",
    "y = data['Clicked on Ad']\n",
    "\n",
    "#6b. splitting the data\n",
    "X_train, X_test, y_train, y_test = train_test_split(X, y, test_size = 0.2, random_state = 42)\n",
    "\n",
    "#6c. Modelling\n",
    "# Call the classifier\n",
    "logreg = LogisticRegression()\n",
    "# Fit the classifier to the training data\n",
    "logreg = logreg.fit(X_train,y_train)\n",
    "# Prediksi model\n",
    "y_pred = logreg.predict(X_test)\n",
    "\n",
    "#6d. Evaluasi Model Performance\n",
    "print(\"Evaluasi Model Performance:\")\n",
    "print(\"Training Accuracy :\", logreg.score(X_train, y_train))\n",
    "print(\"Testing Accuracy :\", logreg.score(X_test, y_test))"
   ]
  },
  {
   "cell_type": "markdown",
   "id": "abfca272",
   "metadata": {},
   "source": [
    "<i>Case Study: Promos for our e-commerce - Part 6</i>"
   ]
  },
  {
   "cell_type": "code",
   "execution_count": null,
   "id": "9785e1c1",
   "metadata": {},
   "outputs": [],
   "source": [
    "# Import library\n",
    "from sklearn.metrics import confusion_matrix, classification_report\n",
    "\n",
    "#7. Print Confusion matrix dan classification report\n",
    "print(\"\\n[7] Print Confusion matrix dan classification report\")\n",
    "\n",
    "#apply confusion_matrix function to y_test and y_pred\n",
    "print(\"Confusion matrix:\")\n",
    "cm = confusion_matrix(y_test, y_pred)\n",
    "print(cm)\n",
    "\n",
    "#apply classification_report function to y_test and y_pred\n",
    "print(\"Classification report:\")\n",
    "cr = classification_report(y_test, y_pred)\n",
    "print(cr)"
   ]
  }
 ],
 "metadata": {
  "kernelspec": {
   "display_name": "Python 3 (ipykernel)",
   "language": "python",
   "name": "python3"
  },
  "language_info": {
   "codemirror_mode": {
    "name": "ipython",
    "version": 3
   },
   "file_extension": ".py",
   "mimetype": "text/x-python",
   "name": "python",
   "nbconvert_exporter": "python",
   "pygments_lexer": "ipython3",
   "version": "3.9.5"
  }
 },
 "nbformat": 4,
 "nbformat_minor": 5
}
